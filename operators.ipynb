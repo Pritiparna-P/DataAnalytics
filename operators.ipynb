{
 "cells": [
  {
   "cell_type": "markdown",
   "id": "ba9e5057-dc09-4601-b842-dc1f25292cd0",
   "metadata": {},
   "source": [
    "Name-pritiparna panigrahy-IF-5k\n",
    "Operator program practice"
   ]
  },
  {
   "cell_type": "code",
   "execution_count": 2,
   "id": "82f8fdcd-12a8-49ee-89d1-c0fcd1b6819c",
   "metadata": {},
   "outputs": [],
   "source": [
    "b=3"
   ]
  },
  {
   "cell_type": "code",
   "execution_count": 43,
   "id": "9c11ab6d-6811-4230-a49f-e2c7885a29c9",
   "metadata": {},
   "outputs": [],
   "source": [
    "a=10"
   ]
  },
  {
   "cell_type": "markdown",
   "id": "eac9e064-ab23-47aa-b0dd-1ad5084e56c4",
   "metadata": {},
   "source": [
    "Arithmetic op"
   ]
  },
  {
   "cell_type": "code",
   "execution_count": 5,
   "id": "92d6e341-0fad-4d93-bde6-e97c1e1e5347",
   "metadata": {},
   "outputs": [
    {
     "data": {
      "text/plain": [
       "13"
      ]
     },
     "execution_count": 5,
     "metadata": {},
     "output_type": "execute_result"
    }
   ],
   "source": [
    "a + b"
   ]
  },
  {
   "cell_type": "code",
   "execution_count": 6,
   "id": "f3d8091f-1e34-4946-9cbc-eecdb6bfab45",
   "metadata": {},
   "outputs": [
    {
     "data": {
      "text/plain": [
       "7"
      ]
     },
     "execution_count": 6,
     "metadata": {},
     "output_type": "execute_result"
    }
   ],
   "source": [
    "a - b"
   ]
  },
  {
   "cell_type": "code",
   "execution_count": 7,
   "id": "c6b9d2b3-ba56-4c09-9311-f81357fc1d87",
   "metadata": {},
   "outputs": [
    {
     "data": {
      "text/plain": [
       "30"
      ]
     },
     "execution_count": 7,
     "metadata": {},
     "output_type": "execute_result"
    }
   ],
   "source": [
    "a * b"
   ]
  },
  {
   "cell_type": "code",
   "execution_count": 8,
   "id": "52bf4a79-cd31-43ca-b524-fa4459888ffc",
   "metadata": {},
   "outputs": [
    {
     "data": {
      "text/plain": [
       "3.3333333333333335"
      ]
     },
     "execution_count": 8,
     "metadata": {},
     "output_type": "execute_result"
    }
   ],
   "source": [
    "a / b "
   ]
  },
  {
   "cell_type": "code",
   "execution_count": 9,
   "id": "f03092e2-1cc4-41ad-9300-9b4f57edee49",
   "metadata": {},
   "outputs": [
    {
     "data": {
      "text/plain": [
       "3"
      ]
     },
     "execution_count": 9,
     "metadata": {},
     "output_type": "execute_result"
    }
   ],
   "source": [
    "a // b"
   ]
  },
  {
   "cell_type": "code",
   "execution_count": 10,
   "id": "956a5d80-ddc0-4a78-8f5d-e537060cc156",
   "metadata": {},
   "outputs": [
    {
     "data": {
      "text/plain": [
       "1000"
      ]
     },
     "execution_count": 10,
     "metadata": {},
     "output_type": "execute_result"
    }
   ],
   "source": [
    "a ** b"
   ]
  },
  {
   "cell_type": "code",
   "execution_count": 11,
   "id": "d558ece9-c2bc-4e6a-8f24-937cb6f4c37e",
   "metadata": {},
   "outputs": [
    {
     "data": {
      "text/plain": [
       "1"
      ]
     },
     "execution_count": 11,
     "metadata": {},
     "output_type": "execute_result"
    }
   ],
   "source": [
    "a % b"
   ]
  },
  {
   "cell_type": "markdown",
   "id": "d38d3631-c661-414e-b866-7827cdbb34a0",
   "metadata": {},
   "source": [
    "Assignment op"
   ]
  },
  {
   "cell_type": "code",
   "execution_count": 24,
   "id": "6e3b05c2-d11a-4b73-b05c-649f0ccfa29c",
   "metadata": {},
   "outputs": [
    {
     "data": {
      "text/plain": [
       "8"
      ]
     },
     "execution_count": 24,
     "metadata": {},
     "output_type": "execute_result"
    }
   ],
   "source": [
    "x=5\n",
    "x += 3\n",
    "x"
   ]
  },
  {
   "cell_type": "code",
   "execution_count": 25,
   "id": "edca7546-6e13-4028-969e-267442be4f9d",
   "metadata": {},
   "outputs": [
    {
     "data": {
      "text/plain": [
       "6"
      ]
     },
     "execution_count": 25,
     "metadata": {},
     "output_type": "execute_result"
    }
   ],
   "source": [
    "x -= 2      \n",
    "x"
   ]
  },
  {
   "cell_type": "code",
   "execution_count": 26,
   "id": "ba07c632-a492-4b74-ade4-813580432db6",
   "metadata": {},
   "outputs": [],
   "source": [
    "x *= 4"
   ]
  },
  {
   "cell_type": "code",
   "execution_count": 27,
   "id": "efe0f650-fbc8-4373-b105-42d490c0274b",
   "metadata": {},
   "outputs": [
    {
     "data": {
      "text/plain": [
       "24"
      ]
     },
     "execution_count": 27,
     "metadata": {},
     "output_type": "execute_result"
    }
   ],
   "source": [
    "x"
   ]
  },
  {
   "cell_type": "code",
   "execution_count": 28,
   "id": "320f26b4-ef3d-40eb-81ce-de36aec77d5f",
   "metadata": {},
   "outputs": [
    {
     "data": {
      "text/plain": [
       "8.0"
      ]
     },
     "execution_count": 28,
     "metadata": {},
     "output_type": "execute_result"
    }
   ],
   "source": [
    "x /= 3 \n",
    "x"
   ]
  },
  {
   "cell_type": "markdown",
   "id": "be50b08b-f222-4b7a-b4b8-a68f2028ee37",
   "metadata": {},
   "source": [
    "Comparision op"
   ]
  },
  {
   "cell_type": "code",
   "execution_count": 29,
   "id": "c4059168-9f0d-42e7-85a0-74b20971da4c",
   "metadata": {},
   "outputs": [
    {
     "data": {
      "text/plain": [
       "False"
      ]
     },
     "execution_count": 29,
     "metadata": {},
     "output_type": "execute_result"
    }
   ],
   "source": [
    "a == b "
   ]
  },
  {
   "cell_type": "code",
   "execution_count": 30,
   "id": "a4fa6f94-fb52-49f1-a898-6c7c99ecfcbd",
   "metadata": {},
   "outputs": [
    {
     "data": {
      "text/plain": [
       "True"
      ]
     },
     "execution_count": 30,
     "metadata": {},
     "output_type": "execute_result"
    }
   ],
   "source": [
    "a != b"
   ]
  },
  {
   "cell_type": "code",
   "execution_count": 31,
   "id": "6f60ced5-5e0e-4750-b3ac-6d6975b37c85",
   "metadata": {},
   "outputs": [
    {
     "data": {
      "text/plain": [
       "True"
      ]
     },
     "execution_count": 31,
     "metadata": {},
     "output_type": "execute_result"
    }
   ],
   "source": [
    "a > b"
   ]
  },
  {
   "cell_type": "code",
   "execution_count": 32,
   "id": "3185217c-232c-4473-8e08-e7708976a2ab",
   "metadata": {},
   "outputs": [
    {
     "data": {
      "text/plain": [
       "False"
      ]
     },
     "execution_count": 32,
     "metadata": {},
     "output_type": "execute_result"
    }
   ],
   "source": [
    "a < b "
   ]
  },
  {
   "cell_type": "code",
   "execution_count": 33,
   "id": "fbe7d271-12aa-4fca-b313-f32834e30816",
   "metadata": {},
   "outputs": [
    {
     "data": {
      "text/plain": [
       "True"
      ]
     },
     "execution_count": 33,
     "metadata": {},
     "output_type": "execute_result"
    }
   ],
   "source": [
    "a >= b"
   ]
  },
  {
   "cell_type": "code",
   "execution_count": 36,
   "id": "82a4e807-b7ed-410a-8699-2873f70b17d6",
   "metadata": {},
   "outputs": [
    {
     "data": {
      "text/plain": [
       "False"
      ]
     },
     "execution_count": 36,
     "metadata": {},
     "output_type": "execute_result"
    }
   ],
   "source": [
    "a <= b"
   ]
  },
  {
   "cell_type": "markdown",
   "id": "62fe0a06-e268-40cf-a87a-4e21a186c7f4",
   "metadata": {},
   "source": [
    "logical operator"
   ]
  },
  {
   "cell_type": "code",
   "execution_count": 38,
   "id": "92b6753a-9696-4f52-8eb4-a193e6712fed",
   "metadata": {},
   "outputs": [],
   "source": [
    "c=True\n",
    "d=False"
   ]
  },
  {
   "cell_type": "code",
   "execution_count": 39,
   "id": "42e6a8ab-03c8-4c27-bac0-eb0ff8429f19",
   "metadata": {},
   "outputs": [
    {
     "data": {
      "text/plain": [
       "False"
      ]
     },
     "execution_count": 39,
     "metadata": {},
     "output_type": "execute_result"
    }
   ],
   "source": [
    "c and d"
   ]
  },
  {
   "cell_type": "code",
   "execution_count": 40,
   "id": "05cd63b4-62c9-485d-91cd-97a6ea214fe8",
   "metadata": {},
   "outputs": [
    {
     "data": {
      "text/plain": [
       "True"
      ]
     },
     "execution_count": 40,
     "metadata": {},
     "output_type": "execute_result"
    }
   ],
   "source": [
    "c or d"
   ]
  },
  {
   "cell_type": "code",
   "execution_count": 41,
   "id": "e27043e0-3d88-4567-b0c4-e77ccd901a8d",
   "metadata": {},
   "outputs": [
    {
     "data": {
      "text/plain": [
       "False"
      ]
     },
     "execution_count": 41,
     "metadata": {},
     "output_type": "execute_result"
    }
   ],
   "source": [
    "not c"
   ]
  },
  {
   "cell_type": "code",
   "execution_count": 42,
   "id": "1cd09eab-54e8-4514-93c2-b28747912b74",
   "metadata": {},
   "outputs": [
    {
     "data": {
      "text/plain": [
       "True"
      ]
     },
     "execution_count": 42,
     "metadata": {},
     "output_type": "execute_result"
    }
   ],
   "source": [
    "not d"
   ]
  },
  {
   "cell_type": "markdown",
   "id": "b178530c-25a5-4a61-9244-0a3b020fac0d",
   "metadata": {},
   "source": [
    "bitwise op"
   ]
  },
  {
   "cell_type": "code",
   "execution_count": 2,
   "id": "f0a858ee",
   "metadata": {},
   "outputs": [
    {
     "name": "stdout",
     "output_type": "stream",
     "text": [
      "p = 6\n",
      "q = 3\n"
     ]
    }
   ],
   "source": [
    "p = 6   \n",
    "q = 3   \n",
    "\n",
    "print(\"p =\", p)\n",
    "print(\"q =\", q)"
   ]
  },
  {
   "cell_type": "code",
   "execution_count": 3,
   "id": "c4d1d74b",
   "metadata": {},
   "outputs": [
    {
     "name": "stdout",
     "output_type": "stream",
     "text": [
      "p & q = 2\n"
     ]
    }
   ],
   "source": [
    "print(\"p & q =\", p & q)     "
   ]
  },
  {
   "cell_type": "code",
   "execution_count": 4,
   "id": "f35553ae",
   "metadata": {},
   "outputs": [
    {
     "name": "stdout",
     "output_type": "stream",
     "text": [
      "p | q = 7\n"
     ]
    }
   ],
   "source": [
    "print(\"p | q =\", p | q)     "
   ]
  },
  {
   "cell_type": "code",
   "execution_count": 5,
   "id": "82169f19",
   "metadata": {},
   "outputs": [
    {
     "name": "stdout",
     "output_type": "stream",
     "text": [
      "p ^ q = 5\n"
     ]
    }
   ],
   "source": [
    "print(\"p ^ q =\", p ^ q)    "
   ]
  },
  {
   "cell_type": "code",
   "execution_count": 6,
   "id": "d4a7e7d2",
   "metadata": {},
   "outputs": [
    {
     "name": "stdout",
     "output_type": "stream",
     "text": [
      "~p = -7\n"
     ]
    }
   ],
   "source": [
    "print(\"~p =\", ~p)     "
   ]
  },
  {
   "cell_type": "code",
   "execution_count": 7,
   "id": "67d66030",
   "metadata": {},
   "outputs": [
    {
     "name": "stdout",
     "output_type": "stream",
     "text": [
      "p << 1 = 12\n"
     ]
    }
   ],
   "source": [
    "print(\"p << 1 =\", p<< 1) "
   ]
  },
  {
   "cell_type": "code",
   "execution_count": 8,
   "id": "61cc6121",
   "metadata": {},
   "outputs": [
    {
     "name": "stdout",
     "output_type": "stream",
     "text": [
      "p >> 1 = 3\n"
     ]
    }
   ],
   "source": [
    "print(\"p >> 1 =\", p >> 1)  "
   ]
  },
  {
   "cell_type": "code",
   "execution_count": null,
   "id": "18acbf58",
   "metadata": {},
   "outputs": [],
   "source": []
  }
 ],
 "metadata": {
  "kernelspec": {
   "display_name": "Python [conda env:base] *",
   "language": "python",
   "name": "conda-base-py"
  },
  "language_info": {
   "codemirror_mode": {
    "name": "ipython",
    "version": 3
   },
   "file_extension": ".py",
   "mimetype": "text/x-python",
   "name": "python",
   "nbconvert_exporter": "python",
   "pygments_lexer": "ipython3",
   "version": "3.13.5"
  }
 },
 "nbformat": 4,
 "nbformat_minor": 5
}
