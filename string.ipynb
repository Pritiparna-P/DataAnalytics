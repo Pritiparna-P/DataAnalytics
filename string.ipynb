{
 "cells": [
  {
   "cell_type": "markdown",
   "id": "90f221b6-9ca1-41e0-a4d3-a8449b80c60c",
   "metadata": {},
   "source": [
    "String Function practice"
   ]
  },
  {
   "cell_type": "markdown",
   "id": "30c50c66-829c-4f30-b4b3-bc95e6f7b3f9",
   "metadata": {},
   "source": [
    "Name-Pritiparna panigrahy (IT 3rd yr)"
   ]
  },
  {
   "cell_type": "code",
   "execution_count": 1,
   "id": "94492232-90e5-4fb2-ae64-155fbb41cc2c",
   "metadata": {},
   "outputs": [],
   "source": [
    "str='Pritiparna Panigrahy'"
   ]
  },
  {
   "cell_type": "code",
   "execution_count": 29,
   "id": "ba38cb06-e345-49df-83fe-e7d8e727e62f",
   "metadata": {},
   "outputs": [
    {
     "data": {
      "text/plain": [
       "['Pritiparna', 'Panigrahy']"
      ]
     },
     "execution_count": 29,
     "metadata": {},
     "output_type": "execute_result"
    }
   ],
   "source": [
    "str.split()"
   ]
  },
  {
   "cell_type": "code",
   "execution_count": 2,
   "id": "98450179-f257-4d2f-910c-09e16f784c29",
   "metadata": {},
   "outputs": [
    {
     "name": "stdout",
     "output_type": "stream",
     "text": [
      "Pritiparna Panigrahy\n"
     ]
    }
   ],
   "source": [
    "print(str)"
   ]
  },
  {
   "cell_type": "code",
   "execution_count": 4,
   "id": "1b130ed9-4668-4e24-9382-339dfc3e65f7",
   "metadata": {},
   "outputs": [
    {
     "data": {
      "text/plain": [
       "'PRITIPARNA PANIGRAHY'"
      ]
     },
     "execution_count": 4,
     "metadata": {},
     "output_type": "execute_result"
    }
   ],
   "source": [
    "str.upper()"
   ]
  },
  {
   "cell_type": "code",
   "execution_count": 5,
   "id": "fdddda6f-f2f2-4e6c-a5e3-19afe2b55ef9",
   "metadata": {},
   "outputs": [
    {
     "data": {
      "text/plain": [
       "'pritiparna panigrahy'"
      ]
     },
     "execution_count": 5,
     "metadata": {},
     "output_type": "execute_result"
    }
   ],
   "source": [
    "str.lower()"
   ]
  },
  {
   "cell_type": "code",
   "execution_count": 11,
   "id": "52743e8e-684f-48b3-a597-c010c7d48236",
   "metadata": {},
   "outputs": [
    {
     "data": {
      "text/plain": [
       "'Pritiparna is Data analyst intern'"
      ]
     },
     "execution_count": 11,
     "metadata": {},
     "output_type": "execute_result"
    }
   ],
   "source": [
    "str.replace('Panigrahy','is Data analyst intern')"
   ]
  },
  {
   "cell_type": "code",
   "execution_count": 18,
   "id": "9e560223-aaa2-4b47-b81e-1a460e519cc5",
   "metadata": {},
   "outputs": [
    {
     "data": {
      "text/plain": [
       "4"
      ]
     },
     "execution_count": 18,
     "metadata": {},
     "output_type": "execute_result"
    }
   ],
   "source": [
    "str.count('a')"
   ]
  },
  {
   "cell_type": "code",
   "execution_count": 19,
   "id": "c6e6f19a-2950-4f83-9d7b-4a6479e7ee2c",
   "metadata": {},
   "outputs": [
    {
     "data": {
      "text/plain": [
       "0"
      ]
     },
     "execution_count": 19,
     "metadata": {},
     "output_type": "execute_result"
    }
   ],
   "source": [
    "str.index('P')"
   ]
  },
  {
   "cell_type": "code",
   "execution_count": 20,
   "id": "674ee460-5e5c-4f19-90b0-60cfbee310eb",
   "metadata": {},
   "outputs": [
    {
     "data": {
      "text/plain": [
       "True"
      ]
     },
     "execution_count": 20,
     "metadata": {},
     "output_type": "execute_result"
    }
   ],
   "source": [
    "str.startswith('Pri')"
   ]
  },
  {
   "cell_type": "code",
   "execution_count": 21,
   "id": "e76d657e-bac6-4648-8b35-506e9d49cc5d",
   "metadata": {},
   "outputs": [
    {
     "data": {
      "text/plain": [
       "False"
      ]
     },
     "execution_count": 21,
     "metadata": {},
     "output_type": "execute_result"
    }
   ],
   "source": [
    "str.endswith('Pri')"
   ]
  },
  {
   "cell_type": "code",
   "execution_count": 22,
   "id": "93e96cf5-3acb-4f48-91de-0d4505011d4c",
   "metadata": {},
   "outputs": [
    {
     "data": {
      "text/plain": [
       "'pRITIPARNA pANIGRAHY'"
      ]
     },
     "execution_count": 22,
     "metadata": {},
     "output_type": "execute_result"
    }
   ],
   "source": [
    "str.swapcase()"
   ]
  },
  {
   "cell_type": "code",
   "execution_count": 30,
   "id": "2d06249f-90e3-4c4d-93de-d742059806d9",
   "metadata": {},
   "outputs": [
    {
     "data": {
      "text/plain": [
       "8"
      ]
     },
     "execution_count": 30,
     "metadata": {},
     "output_type": "execute_result"
    }
   ],
   "source": [
    "str.find('na')"
   ]
  },
  {
   "cell_type": "code",
   "execution_count": 31,
   "id": "a7a309eb-1970-4f3e-a7ed-d86b1a55e95b",
   "metadata": {},
   "outputs": [
    {
     "data": {
      "text/plain": [
       "'Pritiparna Panigrahy*****'"
      ]
     },
     "execution_count": 31,
     "metadata": {},
     "output_type": "execute_result"
    }
   ],
   "source": [
    "str.ljust(25, '*')"
   ]
  },
  {
   "cell_type": "code",
   "execution_count": 33,
   "id": "ffa2b444-822f-474a-8a95-0a9d67df687d",
   "metadata": {},
   "outputs": [
    {
     "data": {
      "text/plain": [
       "'     Pritiparna Panigrahy'"
      ]
     },
     "execution_count": 33,
     "metadata": {},
     "output_type": "execute_result"
    }
   ],
   "source": [
    " str.rjust(25)"
   ]
  },
  {
   "cell_type": "code",
   "execution_count": 36,
   "id": "52e0e2b6-6521-4f70-945e-7a0ed1b42371",
   "metadata": {},
   "outputs": [
    {
     "data": {
      "text/plain": [
       "'     Pritiparna Panigrahy     '"
      ]
     },
     "execution_count": 36,
     "metadata": {},
     "output_type": "execute_result"
    }
   ],
   "source": [
    "str.center(30)\t"
   ]
  },
  {
   "cell_type": "code",
   "execution_count": null,
   "id": "fa5815c8-ac50-465a-b3a1-22d427d1abbd",
   "metadata": {},
   "outputs": [],
   "source": []
  }
 ],
 "metadata": {
  "kernelspec": {
   "display_name": "Python [conda env:base] *",
   "language": "python",
   "name": "conda-base-py"
  },
  "language_info": {
   "codemirror_mode": {
    "name": "ipython",
    "version": 3
   },
   "file_extension": ".py",
   "mimetype": "text/x-python",
   "name": "python",
   "nbconvert_exporter": "python",
   "pygments_lexer": "ipython3",
   "version": "3.13.5"
  }
 },
 "nbformat": 4,
 "nbformat_minor": 5
}
