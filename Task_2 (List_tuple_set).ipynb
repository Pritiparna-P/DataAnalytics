{
 "cells": [
  {
   "cell_type": "markdown",
   "id": "0abd6186",
   "metadata": {},
   "source": [
    "Name-Pritiparna Panigrahy\n",
    "Branch-IT"
   ]
  },
  {
   "cell_type": "markdown",
   "id": "0aab9a0c",
   "metadata": {},
   "source": [
    "List operation:"
   ]
  },
  {
   "cell_type": "code",
   "execution_count": 5,
   "id": "6e4eddc2",
   "metadata": {},
   "outputs": [
    {
     "name": "stdout",
     "output_type": "stream",
     "text": [
      "Original List: [10, 20, 30, 40]\n"
     ]
    }
   ],
   "source": [
    "my_list = [10, 20, 30, 40]\n",
    "print(\"Original List:\", my_list)"
   ]
  },
  {
   "cell_type": "code",
   "execution_count": 6,
   "id": "f60f4d24",
   "metadata": {},
   "outputs": [
    {
     "name": "stdout",
     "output_type": "stream",
     "text": [
      "After append: [10, 20, 30, 40, 50]\n"
     ]
    }
   ],
   "source": [
    "my_list.append(50)\n",
    "print(\"After append:\", my_list)"
   ]
  },
  {
   "cell_type": "code",
   "execution_count": 7,
   "id": "bccb3397",
   "metadata": {},
   "outputs": [
    {
     "name": "stdout",
     "output_type": "stream",
     "text": [
      "After insert at index 2: [10, 20, 25, 30, 40, 50]\n"
     ]
    }
   ],
   "source": [
    "my_list.insert(2, 25)\n",
    "print(\"After insert at index 2:\", my_list)"
   ]
  },
  {
   "cell_type": "code",
   "execution_count": 8,
   "id": "4c612089",
   "metadata": {},
   "outputs": [
    {
     "name": "stdout",
     "output_type": "stream",
     "text": [
      "After remove 30: [10, 20, 25, 40, 50]\n"
     ]
    }
   ],
   "source": [
    "my_list.remove(30)\n",
    "print(\"After remove 30:\", my_list)"
   ]
  },
  {
   "cell_type": "code",
   "execution_count": 9,
   "id": "9c950a4a",
   "metadata": {},
   "outputs": [
    {
     "name": "stdout",
     "output_type": "stream",
     "text": [
      "First element: 10\n"
     ]
    }
   ],
   "source": [
    "print(\"First element:\", my_list[0])"
   ]
  },
  {
   "cell_type": "code",
   "execution_count": 10,
   "id": "e37363a2",
   "metadata": {},
   "outputs": [
    {
     "name": "stdout",
     "output_type": "stream",
     "text": [
      "Slice (index 1 to 3): [20, 25, 40]\n"
     ]
    }
   ],
   "source": [
    "print(\"Slice (index 1 to 3):\", my_list[1:4])"
   ]
  },
  {
   "cell_type": "code",
   "execution_count": 12,
   "id": "bdc2bbec",
   "metadata": {},
   "outputs": [
    {
     "name": "stdout",
     "output_type": "stream",
     "text": [
      "Index of 40: 3\n"
     ]
    }
   ],
   "source": [
    "print(\"Index of 40:\", my_list.index(40))\n"
   ]
  },
  {
   "cell_type": "code",
   "execution_count": 13,
   "id": "ff0acf65",
   "metadata": {},
   "outputs": [
    {
     "name": "stdout",
     "output_type": "stream",
     "text": [
      "Sorted list: [10, 20, 25, 40, 50]\n"
     ]
    }
   ],
   "source": [
    "my_list.sort()\n",
    "print(\"Sorted list:\", my_list)"
   ]
  },
  {
   "cell_type": "code",
   "execution_count": 14,
   "id": "e6a9c71d",
   "metadata": {},
   "outputs": [
    {
     "name": "stdout",
     "output_type": "stream",
     "text": [
      "Reversed list: [50, 40, 25, 20, 10]\n"
     ]
    }
   ],
   "source": [
    "my_list.reverse()\n",
    "print(\"Reversed list:\", my_list)"
   ]
  },
  {
   "cell_type": "markdown",
   "id": "565abe46",
   "metadata": {},
   "source": [
    "Tuple operation:"
   ]
  },
  {
   "cell_type": "code",
   "execution_count": 32,
   "id": "f7ab86bc",
   "metadata": {},
   "outputs": [
    {
     "name": "stdout",
     "output_type": "stream",
     "text": [
      "\n",
      "Tuple: (5, 10, 15, 10)\n",
      "Length of tuple: 4\n",
      "Element at index 2: 15\n",
      "Count of 10: 2\n",
      "Index of 15: 2\n",
      "my_tuple[1:3] (10, 15)\n"
     ]
    }
   ],
   "source": [
    "\n",
    "my_tuple = (5, 10, 15, 10)\n",
    "print(\"\\nTuple:\", my_tuple)\n",
    "print(\"Length of tuple:\",len(my_tuple))\n",
    "print(\"Element at index 2:\", my_tuple[2])\n",
    "print(\"Count of 10:\", my_tuple.count(10))\n",
    "print(\"Index of 15:\", my_tuple.index(15))\n",
    "print(\"my_tuple[1:3]\",my_tuple[1:3])"
   ]
  },
  {
   "cell_type": "markdown",
   "id": "ec0d7f24",
   "metadata": {},
   "source": [
    "Set operations:"
   ]
  },
  {
   "cell_type": "code",
   "execution_count": 5,
   "id": "e0bb27fd",
   "metadata": {},
   "outputs": [
    {
     "name": "stdout",
     "output_type": "stream",
     "text": [
      "Original Set: {1, 2, 3, 4}\n"
     ]
    }
   ],
   "source": [
    "\n",
    "set_1 = {1, 2, 3, 2, 4}\n",
    "print(\"Original Set:\", set_1)"
   ]
  },
  {
   "cell_type": "code",
   "execution_count": 6,
   "id": "1a4df8b7",
   "metadata": {},
   "outputs": [
    {
     "name": "stdout",
     "output_type": "stream",
     "text": [
      "After add(5): {1, 2, 3, 4, 5}\n"
     ]
    }
   ],
   "source": [
    "set_1.add(5)\n",
    "print(\"After add(5):\", set_1)"
   ]
  },
  {
   "cell_type": "code",
   "execution_count": 7,
   "id": "d58e5399",
   "metadata": {},
   "outputs": [
    {
     "name": "stdout",
     "output_type": "stream",
     "text": [
      "After remove(2): {1, 3, 4, 5}\n"
     ]
    }
   ],
   "source": [
    "set_1.remove(2)\n",
    "print(\"After remove(2):\", set_1)\n"
   ]
  },
  {
   "cell_type": "code",
   "execution_count": 10,
   "id": "94140050-8ab0-4258-a0f5-1b5fba011fc1",
   "metadata": {},
   "outputs": [
    {
     "name": "stdout",
     "output_type": "stream",
     "text": [
      "{1, 3, 4, 5, 6}\n"
     ]
    }
   ],
   "source": [
    "set_1.update([6,5])\n",
    "print(set_1)"
   ]
  },
  {
   "cell_type": "code",
   "execution_count": 11,
   "id": "77b54ae6-ae8a-4918-a059-bcb04f9343b2",
   "metadata": {},
   "outputs": [
    {
     "data": {
      "text/plain": [
       "1"
      ]
     },
     "execution_count": 11,
     "metadata": {},
     "output_type": "execute_result"
    }
   ],
   "source": [
    "set_1.pop()"
   ]
  },
  {
   "cell_type": "code",
   "execution_count": 13,
   "id": "7176a5bf-c509-4fe0-935d-c72e2b0c5017",
   "metadata": {},
   "outputs": [
    {
     "name": "stdout",
     "output_type": "stream",
     "text": [
      "{3, 4, 5, 6}\n"
     ]
    }
   ],
   "source": [
    "print(set_1)"
   ]
  },
  {
   "cell_type": "code",
   "execution_count": 15,
   "id": "36bcff73",
   "metadata": {},
   "outputs": [
    {
     "name": "stdout",
     "output_type": "stream",
     "text": [
      "Union: {1, 2, 3, 4, 5, 6}\n"
     ]
    }
   ],
   "source": [
    "set_2= {1, 2, 6}\n",
    "print(\"Union:\", set_1.union(set_2))"
   ]
  },
  {
   "cell_type": "code",
   "execution_count": 16,
   "id": "4ee3d98f",
   "metadata": {},
   "outputs": [
    {
     "name": "stdout",
     "output_type": "stream",
     "text": [
      "Intersection: {6}\n"
     ]
    }
   ],
   "source": [
    "print(\"Intersection:\", set_1.intersection(set_2))"
   ]
  },
  {
   "cell_type": "code",
   "execution_count": 18,
   "id": "bac1f6dc-086d-4f0c-bfc6-f2e7dd284f83",
   "metadata": {},
   "outputs": [
    {
     "name": "stdout",
     "output_type": "stream",
     "text": [
      "difference: {3, 4, 5}\n"
     ]
    }
   ],
   "source": [
    "print(\"difference:\", set_1.difference(set_2))"
   ]
  },
  {
   "cell_type": "code",
   "execution_count": 20,
   "id": "36f9863c-c522-499b-80b0-5471494eed98",
   "metadata": {},
   "outputs": [
    {
     "name": "stdout",
     "output_type": "stream",
     "text": [
      "symmetric_difference: {1, 2, 3, 4, 5}\n"
     ]
    }
   ],
   "source": [
    "print(\"symmetric_difference:\", set_1.symmetric_difference(set_2))"
   ]
  },
  {
   "cell_type": "code",
   "execution_count": 21,
   "id": "c9e7a027-561d-409e-85fe-c6ecdddc587c",
   "metadata": {},
   "outputs": [
    {
     "name": "stdout",
     "output_type": "stream",
     "text": [
      "{3, 4}\n"
     ]
    }
   ],
   "source": [
    "sub={3,4}\n",
    "print(sub)"
   ]
  },
  {
   "cell_type": "code",
   "execution_count": 25,
   "id": "0d4bb34f-75ae-48e2-b72a-64ce2887864f",
   "metadata": {},
   "outputs": [
    {
     "name": "stdout",
     "output_type": "stream",
     "text": [
      "sub.issubset(set_1): True\n"
     ]
    }
   ],
   "source": [
    "print(\"sub.issubset(set_1):\", sub.issubset(set_1))"
   ]
  },
  {
   "cell_type": "code",
   "execution_count": 27,
   "id": "05b1ae42-49a7-4a78-b8fc-d324c47b1ca9",
   "metadata": {},
   "outputs": [
    {
     "name": "stdout",
     "output_type": "stream",
     "text": [
      "set_1.issubset(sub): True\n"
     ]
    }
   ],
   "source": [
    "print(\"set_1.issubset(sub):\", set_1.issuperset(sub))"
   ]
  },
  {
   "cell_type": "code",
   "execution_count": 28,
   "id": "ff132a58-50ff-43dd-ad33-b43917d932a3",
   "metadata": {},
   "outputs": [
    {
     "data": {
      "text/plain": [
       "set()"
      ]
     },
     "execution_count": 28,
     "metadata": {},
     "output_type": "execute_result"
    }
   ],
   "source": [
    "set_1.clear()\n",
    "set_1"
   ]
  },
  {
   "cell_type": "code",
   "execution_count": null,
   "id": "3748487a-34f3-453c-bc68-d85f14127707",
   "metadata": {},
   "outputs": [],
   "source": []
  }
 ],
 "metadata": {
  "kernelspec": {
   "display_name": "Python [conda env:base] *",
   "language": "python",
   "name": "conda-base-py"
  },
  "language_info": {
   "codemirror_mode": {
    "name": "ipython",
    "version": 3
   },
   "file_extension": ".py",
   "mimetype": "text/x-python",
   "name": "python",
   "nbconvert_exporter": "python",
   "pygments_lexer": "ipython3",
   "version": "3.13.5"
  }
 },
 "nbformat": 4,
 "nbformat_minor": 5
}
