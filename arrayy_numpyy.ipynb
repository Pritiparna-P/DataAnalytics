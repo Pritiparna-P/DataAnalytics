{
 "cells": [
  {
   "cell_type": "markdown",
   "id": "1827f16f-9a38-4a2e-a4f8-cd6bd6e90ec6",
   "metadata": {},
   "source": [
    "Name - Pritiparna panigrahy,\n",
    "Branch- IT, TASK-3\n"
   ]
  },
  {
   "cell_type": "code",
   "execution_count": 7,
   "id": "795851ca-1a41-49b4-bd43-81acd05d2906",
   "metadata": {},
   "outputs": [],
   "source": [
    "import numpy as np\n"
   ]
  },
  {
   "cell_type": "markdown",
   "id": "bdf73ef7-ad1a-43e8-b120-badb67f52da1",
   "metadata": {},
   "source": [
    "1D array operation:"
   ]
  },
  {
   "cell_type": "code",
   "execution_count": 8,
   "id": "e3b0d2f7-161b-4f06-9554-9ff0e745b061",
   "metadata": {},
   "outputs": [],
   "source": [
    "arr=np.array([22,33,1,5,89])"
   ]
  },
  {
   "cell_type": "code",
   "execution_count": 10,
   "id": "afec4857-1c99-4fee-a629-35bfe34040ea",
   "metadata": {},
   "outputs": [
    {
     "data": {
      "text/plain": [
       "np.int64(150)"
      ]
     },
     "execution_count": 10,
     "metadata": {},
     "output_type": "execute_result"
    }
   ],
   "source": [
    "np.sum(arr)"
   ]
  },
  {
   "cell_type": "code",
   "execution_count": 11,
   "id": "2dbd9cbd-7bb7-40ac-8ed8-b0ea350d69f4",
   "metadata": {},
   "outputs": [
    {
     "data": {
      "text/plain": [
       "np.float64(30.0)"
      ]
     },
     "execution_count": 11,
     "metadata": {},
     "output_type": "execute_result"
    }
   ],
   "source": [
    "np.mean(arr)"
   ]
  },
  {
   "cell_type": "code",
   "execution_count": 12,
   "id": "ee1b5c96-e5c4-44b3-96e9-aba9e0baa4d2",
   "metadata": {},
   "outputs": [
    {
     "data": {
      "text/plain": [
       "np.int64(1)"
      ]
     },
     "execution_count": 12,
     "metadata": {},
     "output_type": "execute_result"
    }
   ],
   "source": [
    "np.min(arr)"
   ]
  },
  {
   "cell_type": "code",
   "execution_count": 13,
   "id": "881e8613-643e-4a21-accf-bb37ef8a4112",
   "metadata": {},
   "outputs": [
    {
     "data": {
      "text/plain": [
       "np.int64(89)"
      ]
     },
     "execution_count": 13,
     "metadata": {},
     "output_type": "execute_result"
    }
   ],
   "source": [
    "np.max(arr)"
   ]
  },
  {
   "cell_type": "code",
   "execution_count": 14,
   "id": "9895c0c4-dcdc-41fe-bf0c-260246059dff",
   "metadata": {},
   "outputs": [
    {
     "data": {
      "text/plain": [
       "array([ 1,  5, 22, 33, 89])"
      ]
     },
     "execution_count": 14,
     "metadata": {},
     "output_type": "execute_result"
    }
   ],
   "source": [
    "np.sort(arr)"
   ]
  },
  {
   "cell_type": "code",
   "execution_count": 16,
   "id": "7667a065-6ae7-42fb-8f1b-ba1c18b49cd2",
   "metadata": {},
   "outputs": [
    {
     "data": {
      "text/plain": [
       "5"
      ]
     },
     "execution_count": 16,
     "metadata": {},
     "output_type": "execute_result"
    }
   ],
   "source": [
    "arr.size"
   ]
  },
  {
   "cell_type": "code",
   "execution_count": 17,
   "id": "3224b440-e40e-43e2-93c0-de757b46afc1",
   "metadata": {},
   "outputs": [
    {
     "data": {
      "text/plain": [
       "dtype('int64')"
      ]
     },
     "execution_count": 17,
     "metadata": {},
     "output_type": "execute_result"
    }
   ],
   "source": [
    "arr.dtype"
   ]
  },
  {
   "cell_type": "code",
   "execution_count": 28,
   "id": "4b676fb8-9197-4673-a8c6-9ecfb31806bb",
   "metadata": {},
   "outputs": [
    {
     "data": {
      "text/plain": [
       "1"
      ]
     },
     "execution_count": 28,
     "metadata": {},
     "output_type": "execute_result"
    }
   ],
   "source": [
    "arr.ndim"
   ]
  },
  {
   "cell_type": "markdown",
   "id": "63b3791e-81ea-4e3e-828b-e33ce01674be",
   "metadata": {},
   "source": [
    "multi-dimension array operation:"
   ]
  },
  {
   "cell_type": "code",
   "execution_count": 19,
   "id": "32b5de6c-c5bd-49e6-95c7-bcd862d1ec80",
   "metadata": {},
   "outputs": [
    {
     "data": {
      "text/plain": [
       "array([[0., 0., 0., 0., 0., 0., 0., 0.],\n",
       "       [0., 0., 0., 0., 0., 0., 0., 0.]])"
      ]
     },
     "execution_count": 19,
     "metadata": {},
     "output_type": "execute_result"
    }
   ],
   "source": [
    "np.zeros((2,8))"
   ]
  },
  {
   "cell_type": "code",
   "execution_count": 20,
   "id": "2fdfa6b6-f8c3-4228-ae8f-d5cd340e4177",
   "metadata": {},
   "outputs": [
    {
     "data": {
      "text/plain": [
       "array([[1., 1., 1.],\n",
       "       [1., 1., 1.]])"
      ]
     },
     "execution_count": 20,
     "metadata": {},
     "output_type": "execute_result"
    }
   ],
   "source": [
    "np.ones((2,3))"
   ]
  },
  {
   "cell_type": "code",
   "execution_count": 21,
   "id": "834f70bb-dcaa-4591-a45a-ee1b01d02e80",
   "metadata": {},
   "outputs": [
    {
     "data": {
      "text/plain": [
       "array([[9, 9, 9],\n",
       "       [9, 9, 9],\n",
       "       [9, 9, 9]])"
      ]
     },
     "execution_count": 21,
     "metadata": {},
     "output_type": "execute_result"
    }
   ],
   "source": [
    "np.full((3,3),9)"
   ]
  },
  {
   "cell_type": "code",
   "execution_count": 24,
   "id": "b11b27eb-986a-4119-96ea-b730aa61c905",
   "metadata": {},
   "outputs": [
    {
     "data": {
      "text/plain": [
       "array([[1., 0., 0., 0.],\n",
       "       [0., 1., 0., 0.],\n",
       "       [0., 0., 1., 0.],\n",
       "       [0., 0., 0., 1.]])"
      ]
     },
     "execution_count": 24,
     "metadata": {},
     "output_type": "execute_result"
    }
   ],
   "source": [
    "np.eye(4)"
   ]
  },
  {
   "cell_type": "code",
   "execution_count": 26,
   "id": "24826e8d-fe29-41d0-8110-114ccada00d0",
   "metadata": {},
   "outputs": [
    {
     "data": {
      "text/plain": [
       "array([ 1,  6, 11, 16, 21, 26, 31, 36, 41, 46])"
      ]
     },
     "execution_count": 26,
     "metadata": {},
     "output_type": "execute_result"
    }
   ],
   "source": [
    "np.arange(1,50,5)"
   ]
  },
  {
   "cell_type": "code",
   "execution_count": 27,
   "id": "32548dca-ccfb-4aff-8248-71e6cc7c0059",
   "metadata": {},
   "outputs": [
    {
     "data": {
      "text/plain": [
       "array([ 4.  ,  9.75, 15.5 , 21.25, 27.  , 32.75, 38.5 , 44.25, 50.  ])"
      ]
     },
     "execution_count": 27,
     "metadata": {},
     "output_type": "execute_result"
    }
   ],
   "source": [
    "np.linspace(4,50,9)"
   ]
  },
  {
   "cell_type": "code",
   "execution_count": 34,
   "id": "af1d7c9d-4afb-4400-9c6b-fa1e854ef5e3",
   "metadata": {},
   "outputs": [],
   "source": [
    "arr_md=np.array([[1,4,6],[5,23,7],[5,1,2],[6,91,87]])"
   ]
  },
  {
   "cell_type": "code",
   "execution_count": 35,
   "id": "d7586164-8340-4254-a715-6f40bb001c23",
   "metadata": {},
   "outputs": [
    {
     "data": {
      "text/plain": [
       "2"
      ]
     },
     "execution_count": 35,
     "metadata": {},
     "output_type": "execute_result"
    }
   ],
   "source": [
    "arr_md.ndim"
   ]
  },
  {
   "cell_type": "code",
   "execution_count": 44,
   "id": "a8c70bb9-4504-42fc-b530-d013abc4af07",
   "metadata": {},
   "outputs": [],
   "source": [
    "priti=arr_md.reshape(4,3)"
   ]
  },
  {
   "cell_type": "code",
   "execution_count": 39,
   "id": "eeff3bcf-fb4b-4788-a0ca-d6b6942cb78b",
   "metadata": {},
   "outputs": [
    {
     "data": {
      "text/plain": [
       "array([[ 1,  4,  6],\n",
       "       [ 5, 23,  7],\n",
       "       [ 5,  1,  2],\n",
       "       [ 6, 91, 87]])"
      ]
     },
     "execution_count": 39,
     "metadata": {},
     "output_type": "execute_result"
    }
   ],
   "source": [
    "priti"
   ]
  },
  {
   "cell_type": "code",
   "execution_count": 40,
   "id": "f6b91643-5c2d-476e-9dea-cd5423ff149b",
   "metadata": {},
   "outputs": [
    {
     "data": {
      "text/plain": [
       "(4, 3)"
      ]
     },
     "execution_count": 40,
     "metadata": {},
     "output_type": "execute_result"
    }
   ],
   "source": [
    "priti.shape"
   ]
  },
  {
   "cell_type": "code",
   "execution_count": 49,
   "id": "4a2f4822-a93d-4369-b2e5-932cae6bcc58",
   "metadata": {},
   "outputs": [
    {
     "data": {
      "text/plain": [
       "array([ 11,  35,   8, 184])"
      ]
     },
     "execution_count": 49,
     "metadata": {},
     "output_type": "execute_result"
    }
   ],
   "source": [
    "np.sum(priti,axis=1)"
   ]
  },
  {
   "cell_type": "code",
   "execution_count": 54,
   "id": "a9b10e51-371a-4b7d-9ef4-3eeeadff76c6",
   "metadata": {},
   "outputs": [],
   "source": [
    "f=priti.flatten()"
   ]
  },
  {
   "cell_type": "markdown",
   "id": "ccc80cd0-97a1-4cf7-8ed5-8301047451f3",
   "metadata": {},
   "source": [
    "Slicing:"
   ]
  },
  {
   "cell_type": "code",
   "execution_count": 55,
   "id": "3067c85f-109f-4857-b463-d56044988e8c",
   "metadata": {},
   "outputs": [
    {
     "data": {
      "text/plain": [
       "array([ 1,  4,  6,  5, 23])"
      ]
     },
     "execution_count": 55,
     "metadata": {},
     "output_type": "execute_result"
    }
   ],
   "source": [
    "f[:5]"
   ]
  },
  {
   "cell_type": "code",
   "execution_count": 57,
   "id": "461f4d38-d388-4264-9001-0376262464f1",
   "metadata": {},
   "outputs": [
    {
     "data": {
      "text/plain": [
       "array([ 7,  5,  1,  2,  6, 91, 87])"
      ]
     },
     "execution_count": 57,
     "metadata": {},
     "output_type": "execute_result"
    }
   ],
   "source": [
    "f[5:]"
   ]
  },
  {
   "cell_type": "code",
   "execution_count": 58,
   "id": "aee85b04-93e5-4554-81aa-ca34a9b068c2",
   "metadata": {},
   "outputs": [
    {
     "data": {
      "text/plain": [
       "array([ 6,  5, 23])"
      ]
     },
     "execution_count": 58,
     "metadata": {},
     "output_type": "execute_result"
    }
   ],
   "source": [
    "f[2:5]"
   ]
  },
  {
   "cell_type": "code",
   "execution_count": 59,
   "id": "c507caaa-c8bf-4ea7-83b1-3d0b28216b0e",
   "metadata": {},
   "outputs": [],
   "source": [
    "a=f"
   ]
  },
  {
   "cell_type": "code",
   "execution_count": 64,
   "id": "7c2e94b0-e93c-4f75-88a7-7a035e19d994",
   "metadata": {},
   "outputs": [],
   "source": [
    "a[3]=100"
   ]
  },
  {
   "cell_type": "code",
   "execution_count": 65,
   "id": "cbbcdf34-2add-4b56-9c23-12f4e7c27caf",
   "metadata": {},
   "outputs": [
    {
     "data": {
      "text/plain": [
       "array([  1,   4,   6, 100,  23,   7,   5,   1,   2,   6,  91,  87])"
      ]
     },
     "execution_count": 65,
     "metadata": {},
     "output_type": "execute_result"
    }
   ],
   "source": [
    "a\n"
   ]
  },
  {
   "cell_type": "code",
   "execution_count": 66,
   "id": "9be7e8ea-6e6c-45ed-bc26-59ac9cf7a134",
   "metadata": {},
   "outputs": [
    {
     "data": {
      "text/plain": [
       "array([  1,   4,   6, 100,  23,   7,   5,   1,   2,   6,  91,  87])"
      ]
     },
     "execution_count": 66,
     "metadata": {},
     "output_type": "execute_result"
    }
   ],
   "source": [
    "f"
   ]
  },
  {
   "cell_type": "code",
   "execution_count": null,
   "id": "f2a37de8-45c9-4147-91c2-156a98207cd5",
   "metadata": {},
   "outputs": [],
   "source": []
  }
 ],
 "metadata": {
  "kernelspec": {
   "display_name": "Python [conda env:base] *",
   "language": "python",
   "name": "conda-base-py"
  },
  "language_info": {
   "codemirror_mode": {
    "name": "ipython",
    "version": 3
   },
   "file_extension": ".py",
   "mimetype": "text/x-python",
   "name": "python",
   "nbconvert_exporter": "python",
   "pygments_lexer": "ipython3",
   "version": "3.13.5"
  }
 },
 "nbformat": 4,
 "nbformat_minor": 5
}
