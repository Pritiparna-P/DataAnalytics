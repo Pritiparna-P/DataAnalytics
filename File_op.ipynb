{
 "cells": [
  {
   "cell_type": "markdown",
   "id": "0ee3ad45",
   "metadata": {},
   "source": [
    "Name- Pritiparna Panigrahy\n",
    "Branch- It"
   ]
  },
  {
   "cell_type": "markdown",
   "id": "5b57bf1f",
   "metadata": {},
   "source": [
    "Example of 'Reading' file"
   ]
  },
  {
   "cell_type": "code",
   "execution_count": 12,
   "id": "18e492b4-1a57-4a06-9f09-8d680bc77841",
   "metadata": {},
   "outputs": [],
   "source": [
    "file=open(\"Example.txt\",'r')"
   ]
  },
  {
   "cell_type": "code",
   "execution_count": 13,
   "id": "fcc3f46a-4e23-4509-8a17-e38a0fd9a957",
   "metadata": {},
   "outputs": [],
   "source": [
    "a=file.read()"
   ]
  },
  {
   "cell_type": "code",
   "execution_count": 14,
   "id": "5b2113f8-d7fa-4c0a-ab83-72b9f819ea96",
   "metadata": {},
   "outputs": [
    {
     "name": "stdout",
     "output_type": "stream",
     "text": [
      "hello eveyone........\n",
      "I'm Pritiparna Panigrahy\n",
      "\n"
     ]
    }
   ],
   "source": [
    "print(a)"
   ]
  },
  {
   "cell_type": "markdown",
   "id": "444a06e9",
   "metadata": {},
   "source": [
    "Example of 'Writing' in file"
   ]
  },
  {
   "cell_type": "code",
   "execution_count": null,
   "id": "d1632793-0fac-41f2-8808-2a3595ef81ac",
   "metadata": {},
   "outputs": [],
   "source": [
    "file=open(\"Example_2.txt\",'w')"
   ]
  },
  {
   "cell_type": "code",
   "execution_count": null,
   "id": "dcfd019a-7d8d-4547-94d1-2dd7a9f3d11d",
   "metadata": {},
   "outputs": [
    {
     "data": {
      "text/plain": [
       "27"
      ]
     },
     "execution_count": 8,
     "metadata": {},
     "output_type": "execute_result"
    }
   ],
   "source": [
    "file.write(\"Hey, Have a great day!!!!!!\")"
   ]
  },
  {
   "cell_type": "code",
   "execution_count": 15,
   "id": "256db87a",
   "metadata": {},
   "outputs": [],
   "source": [
    "file.close()"
   ]
  }
 ],
 "metadata": {
  "kernelspec": {
   "display_name": "Python [conda env:base] *",
   "language": "python",
   "name": "conda-base-py"
  },
  "language_info": {
   "codemirror_mode": {
    "name": "ipython",
    "version": 3
   },
   "file_extension": ".py",
   "mimetype": "text/x-python",
   "name": "python",
   "nbconvert_exporter": "python",
   "pygments_lexer": "ipython3",
   "version": "3.13.5"
  }
 },
 "nbformat": 4,
 "nbformat_minor": 5
}
